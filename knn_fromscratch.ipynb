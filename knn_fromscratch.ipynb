{
 "cells": [
  {
   "cell_type": "code",
   "execution_count": null,
   "metadata": {},
   "outputs": [],
   "source": []
  },
  {
   "cell_type": "code",
   "execution_count": 394,
   "metadata": {},
   "outputs": [],
   "source": [
    "import numpy as np # imported to calculate euclidian distance between multidimensional arrays.\n",
    "from sklearn.datasets import load_iris # imported to load iris dataset\n",
    "from sklearn.model_selection import train_test_split # imported to split dataset (%70train,%30test)\n",
    "from collections import Counter # imported to find out amount of species which are in the neighbor list.\n",
    "from sklearn.metrics import accuracy_score # imported to compare with my predicts."
   ]
  },
  {
   "cell_type": "code",
   "execution_count": 395,
   "metadata": {},
   "outputs": [],
   "source": [
    "ds_iris= load_iris() #loaded iris data set"
   ]
  },
  {
   "cell_type": "code",
   "execution_count": 396,
   "metadata": {},
   "outputs": [],
   "source": [
    "data=ds_iris.data # split data and target. \n",
    "species= ds_iris.target "
   ]
  },
  {
   "cell_type": "code",
   "execution_count": 397,
   "metadata": {},
   "outputs": [],
   "source": [
    "data_train,data_test,species_train,species_test = train_test_split(data,species,test_size=0.3) #split data set as train and test\n",
    " (%70train,%30test)"
   ]
  },
  {
   "cell_type": "code",
   "execution_count": 398,
   "metadata": {},
   "outputs": [
    {
     "data": {
      "text/plain": [
       "array([5.8, 2.7, 4.1, 1. ])"
      ]
     },
     "execution_count": 398,
     "metadata": {},
     "output_type": "execute_result"
    }
   ],
   "source": [
    "data_train[1] #trying to find out how is look like my data or row."
   ]
  },
  {
   "cell_type": "code",
   "execution_count": 399,
   "metadata": {},
   "outputs": [],
   "source": [
    "# implemention to fit data\n",
    "def my_fit(data_train,species_train):    \n",
    "    data_train=data_train\n",
    "    species_train=species_train"
   ]
  },
  {
   "cell_type": "code",
   "execution_count": 400,
   "metadata": {},
   "outputs": [],
   "source": [
    "# calculation of euclidian distance.\n",
    "# i used numpy to make calculations beacuse on this dataset we have arrays.\n",
    "# sum, sqrt and square functions are used to find distance between multidimensional arrays.\n",
    "# the formula between the two point((x, y), (a, b)) is  = √((x - a)² + (y - b)²)\n",
    "def euc_distance(a,b):\n",
    "    result1=np.sum(np.square(a-b))\n",
    "    result = np.sqrt(result1)\n",
    "    return result\n",
    "    "
   ]
  },
  {
   "cell_type": "code",
   "execution_count": 401,
   "metadata": {},
   "outputs": [],
   "source": [
    "#checked if my method working or not.\n",
    "a=np.array([3,0])\n",
    "b=np.array([0,4])"
   ]
  },
  {
   "cell_type": "code",
   "execution_count": 402,
   "metadata": {},
   "outputs": [
    {
     "name": "stdout",
     "output_type": "stream",
     "text": [
      "5.0\n"
     ]
    }
   ],
   "source": [
    "print(euc_distance(a,b))"
   ]
  },
  {
   "cell_type": "code",
   "execution_count": 403,
   "metadata": {},
   "outputs": [],
   "source": [
    "#my first goal here is to find neighbors of my new data or point.\n",
    "#\n",
    "def my_neighbor(data,k_value):\n",
    "    \n",
    "    neighbors= [] # list for neighbors\n",
    "    distances=[] # list to store distances between points and data.\n",
    "    for i in range(0,len(data_train)):   # this for loop taking the new point and comparing with all points and data we have\n",
    "                                                                                                                #on train set.\n",
    "        distance = euc_distance(data,data_train[i]) # It compares and finds distances between them.\n",
    "        distances.append((species_train[i],distance)) # add the list with their target info and distances.\n",
    "                                                    # target info: species_train[i] it gives the target like 0,1,2\n",
    "                                                    # (Iris setosa, Iris virginica and Iris versicolor)\n",
    "                                                     # it gives the species. \n",
    "\n",
    "    distances.sort(key=lambda distance: distance[1]) # sorting the list according to distances \n",
    "                                                     #(distance[0]:targets, distance[1]:distances)\n",
    "                                                # i sorted the list beacuse i need the nearest neighbors.\n",
    "                                                # the lowest distance means that nearest neighbor.\n",
    "    for i in range(k_value):\n",
    "        neighbors.append(distances[i][0])  #it takes targets from distances list and adding to neighbor list \n",
    "                                            # it takes as much as k value. (k value= amount of neighbors we want to check)\n",
    "        \n",
    "    times=Counter(neighbors) # it checks how much target we have. (how much target0 we have, target1 we have etc.)\n",
    "                            # targets gives us species of flower. (0, 1 or 2) Iris setosa, Iris virginica and Iris versicolor\n",
    "                        \n",
    "    return max(times) # it returns the number of target (we have the most) \n",
    "                    # if k=7 and we have 3 target0, 2 target1 and 2 target2 it returns 0. (Iris setosa)\n",
    "    \n",
    "    "
   ]
  },
  {
   "cell_type": "code",
   "execution_count": 404,
   "metadata": {},
   "outputs": [],
   "source": [
    "#note:I checked Counter method and its gives as the result as a dictionary type.\n",
    "# for example: (k=5)Counter({2: 4, 1: 1}) means that we have 4 target2 and 1 target1. \n",
    "#after that i tried max method. it gave to me 2. then i implemented this counter function to my method. (my_neighbor)"
   ]
  },
  {
   "cell_type": "code",
   "execution_count": 405,
   "metadata": {},
   "outputs": [
    {
     "data": {
      "text/plain": [
       "1"
      ]
     },
     "execution_count": 405,
     "metadata": {},
     "output_type": "execute_result"
    }
   ],
   "source": [
    "#testing the method. and it gives the right result.\n",
    "dst= my_neighbor(data_test,3)\n",
    "dst"
   ]
  },
  {
   "cell_type": "code",
   "execution_count": 406,
   "metadata": {},
   "outputs": [],
   "source": [
    "def my_predict(data_test,k_value): #taking data and k value.\n",
    "    predict_list= []         #list to store all results. we will compare with real results and find out our accuracyscore later\n",
    "    for data in data_test:    #this for loop find out the all neighbors of all points we have on dataset(testset%30).\n",
    "        species1=my_neighbor(data,k_value) #using our previous neighbor method.\n",
    "        predict_list.append(species1) # adding our predicts to the list. \n",
    "    return predict_list # this list should look like : [2,2,1,0,1,1,0,2 ...etc.] our findings are our targets.(species)\n"
   ]
  },
  {
   "cell_type": "code",
   "execution_count": 407,
   "metadata": {},
   "outputs": [],
   "source": [
    "my_fit(data_train,species_train)"
   ]
  },
  {
   "cell_type": "code",
   "execution_count": 408,
   "metadata": {},
   "outputs": [],
   "source": [
    "result_test1= my_predict(data_test,5) # checking method for k=5"
   ]
  },
  {
   "cell_type": "code",
   "execution_count": 409,
   "metadata": {},
   "outputs": [
    {
     "data": {
      "text/plain": [
       "0.9555555555555556"
      ]
     },
     "execution_count": 409,
     "metadata": {},
     "output_type": "execute_result"
    }
   ],
   "source": [
    "accuracy_score(species_test,result_test1) # checking our accuracy score."
   ]
  },
  {
   "cell_type": "code",
   "execution_count": 410,
   "metadata": {},
   "outputs": [
    {
     "name": "stdout",
     "output_type": "stream",
     "text": [
      "k=1 :0.9555555555555556\n",
      "k=3 :0.9777777777777777\n",
      "k=5 :0.9555555555555556\n",
      "k=7 :0.9333333333333333\n",
      "k=9 :0.8888888888888888\n",
      "k=11 :0.8888888888888888\n",
      "k=13 :0.8666666666666667\n",
      "k=15 :0.8666666666666667\n"
     ]
    }
   ],
   "source": [
    "for i in range(1,16,2): #checking our accuracy score for k=1,k=3,k=5,k=7,k=9,k=11,k=13,k=15 \n",
    "    result_test= my_predict(data_test,i)  # i used odd numbers for k because i want to get a more stable results.\n",
    "                                          # even numbers might be a problem in case of equality situtaions \n",
    "                                                                    # like (k=6 target0=2,target1=2,target2=2)\n",
    "    print(\"k=\"+ str(i) + \" :\" + str(accuracy_score(species_test,result_test)) )"
   ]
  },
  {
   "cell_type": "markdown",
   "metadata": {},
   "source": [
    "# My findings according to different k values:\n",
    " #k=1 :0.9333333333333333\n",
    " #k=3 :0.9555555555555556\n",
    " #k=5 :0.9555555555555556\n",
    " #k=7 :0.9333333333333333\n",
    " #k=9 :0.9555555555555556\n",
    " #k=11 :0.9111111111111111\n",
    " #k=13 :0.9111111111111111\n",
    " #k=15 :0.8888888888888888"
   ]
  },
  {
   "cell_type": "markdown",
   "metadata": {},
   "source": [
    "# summary\n",
    "I tried many times and mostly i find out k=3 and k 5 is giving the most decent results.\n",
    "When i try to bigger numbers, generally accuracy score  decreased.\n",
    "It shows us, knn algorithm is can not used for all situtaions. We can not trust the accuracy of knn algorithm."
   ]
  },
  {
   "cell_type": "code",
   "execution_count": null,
   "metadata": {},
   "outputs": [],
   "source": []
  }
 ],
 "metadata": {
  "kernelspec": {
   "display_name": "Python 3",
   "language": "python",
   "name": "python3"
  },
  "language_info": {
   "codemirror_mode": {
    "name": "ipython",
    "version": 3
   },
   "file_extension": ".py",
   "mimetype": "text/x-python",
   "name": "python",
   "nbconvert_exporter": "python",
   "pygments_lexer": "ipython3",
   "version": "3.8.3"
  }
 },
 "nbformat": 4,
 "nbformat_minor": 4
}
